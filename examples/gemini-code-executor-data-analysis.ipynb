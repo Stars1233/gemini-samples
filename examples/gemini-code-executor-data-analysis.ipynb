{
 "cells": [
  {
   "cell_type": "markdown",
   "metadata": {},
   "source": [
    "# Google Gemini 2.0 for Data Analysis using CSV files and Code Execution\n",
    "\n",
    "TODO: Look up data scientist agent blog "
   ]
  },
  {
   "cell_type": "code",
   "execution_count": null,
   "metadata": {},
   "outputs": [],
   "source": [
    "%pip install google-genai jinja2"
   ]
  },
  {
   "cell_type": "code",
   "execution_count": null,
   "metadata": {},
   "outputs": [],
   "source": [
    "import os\n",
    "from google import genai\n",
    "\n",
    "# create client\n",
    "api_key = os.getenv(\"GEMINI_API_KEY\",\"xxx\")\n",
    "client = genai.Client(api_key=api_key)"
   ]
  },
  {
   "cell_type": "code",
   "execution_count": 15,
   "metadata": {},
   "outputs": [
    {
     "name": "stdout",
     "output_type": "stream",
     "text": [
      "[00:00] John: If the Porsche Macan has proven anything, it's that the days of sacrificing performance for practicality are gone.\n",
      "[00:06] John: Long gone.\n",
      "[00:08] John: Engineered to deliver a driving experience like no other, the Macan has demonstrated excellence in style and performance to become the leading sports car in its class.\n",
      "[00:17] John: So don't let those five doors fool you.\n",
      "[00:20] John: Once you're in the driver's seat, one thing will become immediately clear.\n",
      "[00:25] [Sound of Porsche Engine Reving]\n",
      "[00:27] John: This is a Porsche.\n",
      "[00:30] John: The Macan, now leasing from 3.99%.\n",
      "[00:35] John: Conditions apply.\n",
      "[00:38] [Low Frequency Sound]\n",
      "[END]\n"
     ]
    }
   ],
   "source": [
    "from jinja2 import Template\n",
    "\n",
    "\n",
    "# path to the file to upload\n",
    "csv_file_path = \"../assets/porsche.mp3\" # Repalce with your own file path\n",
    "\n",
    "# Upload the file to the File API\n",
    "file = client.files.upload(file=csv_file_path)\n",
    "\n",
    "# Generate a structured response using the Gemini API\n",
    "prompt_template = Template(\"\"\"You are expert Data Analyst that uses Python to analysis and answer user question based on the provided CSV data. \n",
    "You should always use Python for data transformations, calculations and visualizations. \n",
    "If the users requests are chart use mathplotlib. \n",
    "\n",
    "Tasks: \n",
    "{% for task in tasks %}- {{ task }}{% if not loop.last %}\\n{% endif %}{% endfor %}\n",
    "\n",
    "Don't use any markdown formatting, like bolding or italics.\n",
    "\n",
    "Only use characters from the English alphabet, unless you genuinely believe foreign characters are correct.\"\"\")\n",
    "\n",
    "# Define the speakers and render the prompt\n",
    "tasks = [\n",
    "    \"What was X?\"\n",
    "]\n",
    "prompt = prompt_template.render(tasks=tasks)\n",
    "\n",
    "response = client.models.generate_content(\n",
    "    model=\"gemini-2.0-flash\",\n",
    "    contents=[prompt, file],\n",
    "    config={\"tools\": [{\"code_execution\": {}}]},\n",
    ")\n",
    "\n",
    "print(response.text)"
   ]
  },
  {
   "cell_type": "code",
   "execution_count": null,
   "metadata": {},
   "outputs": [],
   "source": []
  }
 ],
 "metadata": {
  "kernelspec": {
   "display_name": ".venv",
   "language": "python",
   "name": "python3"
  },
  "language_info": {
   "codemirror_mode": {
    "name": "ipython",
    "version": 3
   },
   "file_extension": ".py",
   "mimetype": "text/x-python",
   "name": "python",
   "nbconvert_exporter": "python",
   "pygments_lexer": "ipython3",
   "version": "3.11.11"
  }
 },
 "nbformat": 4,
 "nbformat_minor": 2
}
